{
 "cells": [
  {
   "cell_type": "markdown",
   "metadata": {},
   "source": [
    "### Exercise 1\n"
   ]
  },
  {
   "cell_type": "code",
   "execution_count": 4,
   "metadata": {
    "collapsed": false
   },
   "outputs": [],
   "source": [
    "import numpy as np\n",
    "import codecs\n",
    "import nltk\n",
    "import re\n",
    "from nltk.tokenize import wordpunct_tokenize\n",
    "from nltk import PorterStemmer\n",
    "\n",
    "\"\"\"\n",
    "This is a class sherlock. \n",
    "Notice how it is defined with the keyword `class` and a name that begins with a capital letter\n",
    "\"\"\"\n",
    "\n",
    "class Document():\n",
    "    \n",
    "    \"\"\" The Doc class rpresents a class of individul documents\n",
    "    \n",
    "    \"\"\"\n",
    "    \n",
    "    def __init__(self, speech_year, speech_pres, speech_text, stopwords, clean_length):\n",
    "        self.year = speech_year\n",
    "        self.pres = speech_pres\n",
    "        self.text = speech_text.lower()\n",
    "        self.word_list(clean_length, stopwords)\n",
    "        self.tokens = np.array(wordpunct_tokenize(self.text))\n",
    "    \n",
    "    def word_list(self, clean_length, stopwords):\n",
    "        \"\"\"\n",
    "        description: define the word_list attribute (i.e. without stemming)\n",
    "        \"\"\"\n",
    "        self.word_list = np.array(wordpunct_tokenize(self.text))\n",
    "        self.word_list = np.array([t for t in self.word_list if (t.isalpha() and len(t) > clean_length)])        \n",
    "        self.word_list = np.array([t for t in self.word_list if t not in stopwords])\n",
    "\n",
    "    def token_clean(self,length):\n",
    "\n",
    "        \"\"\" \n",
    "        description: strip out non-alpha tokens and tokens of length > 'length'\n",
    "        input: length: cut off length \n",
    "        \"\"\"\n",
    "\n",
    "        self.tokens = np.array([t for t in self.tokens if (t.isalpha() and len(t) > length)])\n",
    "\n",
    "\n",
    "    def stopword_remove(self, stopwords):\n",
    "\n",
    "        \"\"\"\n",
    "        description: Remove stopwords from tokens.\n",
    "        input: stopwords: a suitable list of stopwords\n",
    "        \"\"\"\n",
    "\n",
    "        self.tokens = np.array([t for t in self.tokens if t not in stopwords])\n",
    "\n",
    "\n",
    "    def stem(self):\n",
    "\n",
    "        \"\"\"\n",
    "        description: Stem tokens with Porter Stemmer.\n",
    "        \"\"\"\n",
    "        \n",
    "        self.tokens = np.array([PorterStemmer().stem(t) for t in self.tokens])\n",
    "        \n"
   ]
  },
  {
   "cell_type": "code",
   "execution_count": 6,
   "metadata": {
    "collapsed": false
   },
   "outputs": [],
   "source": [
    "import re\n",
    "import math\n",
    "import numpy as np\n",
    "from collections import Counter\n",
    "\n",
    "class Corpus():\n",
    "    \n",
    "    \"\"\" \n",
    "    The Corpus class represents a document collection\n",
    "     \n",
    "    \"\"\"\n",
    "    # We added in the initialization the dictionary with respect to which you want to compute the ranking: \n",
    "    # numb is for the number of top documents you want to consider, while metric == \"tfidf\" or \"doc-term\"\n",
    "    def __init__(self, doc_data, stopword_file, clean_length):\n",
    "        \n",
    "        #get a list of stopwords\n",
    "        self.create_stopwords(stopword_file, clean_length)\n",
    "                \n",
    "        #Initialise documents by invoking the appropriate class\n",
    "        self.docs = [Document(doc[0], doc[1], doc[2], self.stopwords, clean_length) for doc in doc_data] \n",
    "        \n",
    "        self.N = len(self.docs)\n",
    "        self.clean_length = clean_length\n",
    "        \n",
    "        #stopword removal, token cleaning and stemming to docs\n",
    "        self.clean_docs(2)\n",
    "        \n",
    "        #create vocabulary\n",
    "        self.corpus_tokens()\n",
    "        \n",
    "        \n",
    "    def clean_docs(self, length):\n",
    "        \"\"\" \n",
    "        Applies stopword removal, token cleaning and stemming to docs\n",
    "        \"\"\"\n",
    "        for doc in self.docs:\n",
    "            doc.token_clean(length)\n",
    "            doc.stopword_remove(self.stopwords)\n",
    "            doc.stem()        \n",
    "    \n",
    "    def create_stopwords(self, stopword_file, length):\n",
    "        \"\"\"\n",
    "        description: parses a file of stowords, removes words of length < 'length' and \n",
    "        stems it\n",
    "        input: length: cutoff length for words\n",
    "               stopword_file: stopwords file to parse\n",
    "        \"\"\"\n",
    "        \n",
    "        with codecs.open(stopword_file,'r','utf-8') as f: raw = f.read()\n",
    "        \n",
    "        self.stopwords = (np.array([PorterStemmer().stem(word) \n",
    "                                    for word in list(raw.splitlines()) if len(word) > length]))\n",
    "        \n",
    "     \n",
    "    def corpus_tokens(self):\n",
    "        \"\"\"\n",
    "        description: create a set of all tokens or in other words a vocabulary\n",
    "        \"\"\"\n",
    "        \n",
    "        #initialise an empty set\n",
    "        self.token_set = set()\n",
    "        for doc in self.docs:\n",
    "            self.token_set = self.token_set.union(doc.tokens) \n",
    "\n",
    "    # Q1 part 1: document_term_matrix - which returns a D by V array of frequency counts.            \n",
    "    def generate_document_term_matrix(self):\n",
    "        \"\"\"\n",
    "        description: create the document_term_matrix\n",
    "        \"\"\"\n",
    "        dimD = self.N\n",
    "        # total number of columns\n",
    "        dimV = len(self.token_set)\n",
    "        terms_list = list(self.token_set)\n",
    "        # initialize the matrix\n",
    "        document_term_matrix = np.zeros((dimD, dimV))        \n",
    "        for i in range(dimD):\n",
    "            # count the terms for each document\n",
    "            document = self.docs[i]\n",
    "            if i%25==0: print 'counting terms for doc: ' + str(i)\n",
    "            word_counts = Counter(document.tokens)\n",
    "            for word_count_pair in word_counts.most_common():\n",
    "                # split in word and count\n",
    "                word = word_count_pair[0]\n",
    "                count = word_count_pair[1]\n",
    "                # save the term index\n",
    "                term_idx = terms_list.index(word)\n",
    "                doc_term_tuple = (i, term_idx)\n",
    "                document_term_matrix.itemset(doc_term_tuple, count)\n",
    "        # update the doc_term_matrix attribute        \n",
    "        self.document_term_matrix = document_term_matrix\n",
    "\n",
    "    def generate_idfv(self):\n",
    "        \"\"\"\n",
    "        computes the inverse document frequency of each term v\n",
    "        \"\"\"\n",
    "        D = self.N\n",
    "        # idf_{v} = log(D/d_fv)\n",
    "        terms_list = list(self.token_set)\n",
    "        self.idfv = dict.fromkeys(terms_list, 0)\n",
    "        # creates a hash {'term':0,'term2':0,...}\n",
    "        for v in self.token_set:\n",
    "            term_idx = terms_list.index(v)\n",
    "            d_fv = np.sum(self.document_term_matrix[:,term_idx] > 0)\n",
    "            # apply the formula\n",
    "            c = math.log10(D/d_fv)\n",
    "            self.idfv[v] = c\n",
    "\n",
    "    # Q1 part 2: tf_idf - returns a D by V array of tf-idf scores            \n",
    "    def generate_tf_idf(self):\n",
    "        D = self.N\n",
    "        terms_list = list(self.token_set)\n",
    "        # initialize the matrix\n",
    "        tf_idf = np.zeros(self.document_term_matrix.shape)\n",
    "        for doc_i in range(D):\n",
    "            if doc_i%25==0: print 'counting terms for doc: ' + str(doc_i)\n",
    "            for v_i in range(len(terms_list)):\n",
    "                doc_term_tuple = (doc_i, v_i)\n",
    "                xdv_score = self.document_term_matrix.item(doc_term_tuple)\n",
    "                if xdv_score > 0:\n",
    "                    idf_score = self.idfv[terms_list[v_i]]\n",
    "                    if idf_score > 0:\n",
    "                        # apply the formula seen in class\n",
    "                        tf_idf_score = (1 + np.log(xdv_score))*idf_score\n",
    "                        tf_idf.itemset(doc_term_tuple, tf_idf_score)\n",
    "        self.tf_idf = tf_idf\n",
    "\n",
    "    # Q1 part 3: dict_rank\n",
    "    def dict_rank(self, numb, dictionary, metric):\n",
    "        \"\"\"\n",
    "        computes the dictionary rank of the top numb documents, based on the dictionary and metric method \n",
    "        (either doc-term or tfidf)\n",
    "        \"\"\"\n",
    "        terms_list = list(self.token_set)\n",
    "        # get the indices of occurences of the terms in the dictionary\n",
    "        idcs = [terms_list.index(item) for item in dictionary]\n",
    "        order = []\n",
    "        if metric == 'doc-term':\n",
    "            # get the needed columns\n",
    "            cols = tuple([list(self.document_term_matrix[:,i]) for i in idcs])\n",
    "            # sort and update order list\n",
    "            order = list(np.lexsort(cols))\n",
    "            order.reverse()\n",
    "        elif metric == 'tf_idf':\n",
    "            cols = tuple([list(self.tf_idf[:,i]) for i in idcs])\n",
    "            order = list(np.lexsort(cols))\n",
    "            order.reverse()\n",
    "        # return the top numb documents    \n",
    "        return [self.docs[i] for i in order[0:numb]]\n"
   ]
  },
  {
   "cell_type": "code",
   "execution_count": 5,
   "metadata": {
    "collapsed": true
   },
   "outputs": [],
   "source": [
    "def parse_text(textraw, regex):\n",
    "    \"\"\"takes raw string and performs two operations\n",
    "    1. Breaks text into a list of speech, president and speech\n",
    "    2. breaks speech into paragraphs\n",
    "    \"\"\"\n",
    "    prs_yr_spch_reg = re.compile(regex, re.MULTILINE|re.DOTALL)\n",
    "    \n",
    "    #Each tuple contains the year, last ane of the president and the speech text\n",
    "    prs_yr_spch = prs_yr_spch_reg.findall(textraw)\n",
    "    \n",
    "    #convert immutabe tuple to mutable list\n",
    "    prs_yr_spch = [list(tup) for tup in prs_yr_spch]\n",
    "    \n",
    "    for i in range(len(prs_yr_spch)):\n",
    "        prs_yr_spch[i][2] = prs_yr_spch[i][2].replace('\\n', '')\n",
    "    \n",
    "    #sort\n",
    "    prs_yr_spch.sort()\n",
    "    \n",
    "    return(prs_yr_spch)"
   ]
  },
  {
   "cell_type": "code",
   "execution_count": 7,
   "metadata": {
    "collapsed": false
   },
   "outputs": [],
   "source": [
    "text = open('sou_all.txt', 'r').read()\n",
    "regex = \"_(\\d{4}).*?_[a-zA-Z]+.*?_[a-zA-Z]+.*?_([a-zA-Z]+)_\\*+(\\\\n{2}.*?)\\\\n{3}\"\n",
    "pres_speech_list = parse_text(text, regex)"
   ]
  },
  {
   "cell_type": "code",
   "execution_count": 9,
   "metadata": {
    "collapsed": false,
    "scrolled": true
   },
   "outputs": [
    {
     "name": "stdout",
     "output_type": "stream",
     "text": [
      " fellow-citizens of the s\n"
     ]
    }
   ],
   "source": [
    "#Instantite the corpus class\n",
    "corpus = Corpus(pres_speech_list, 'stopwords.txt', 3)\n",
    "print corpus.docs[0].text[0:25]"
   ]
  },
  {
   "cell_type": "code",
   "execution_count": 10,
   "metadata": {
    "collapsed": false
   },
   "outputs": [
    {
     "name": "stdout",
     "output_type": "stream",
     "text": [
      "counting terms for doc: 0\n",
      "time spent computing document_term_matrix: 1.49046897888\n",
      "2746\n",
      "counting terms for doc: 0\n",
      "(20, 2746)\n"
     ]
    }
   ],
   "source": [
    "# Q2 part 1: Use the two methods above to score each document in your data.\n",
    "import time\n",
    "t0 = time.time()\n",
    "corpus.generate_document_term_matrix()\n",
    "corpus.document_term_matrix[:,0]\n",
    "t1 = time.time()\n",
    "print 'time spent computing document_term_matrix: ' + str(t1 - t0)\n",
    "\n",
    "corpus.generate_idfv()\n",
    "print len(corpus.idfv) # == len(corpus.token_set)\n",
    "corpus.idfv[corpus.idfv.keys()[9]]\n",
    "\n",
    "corpus.generate_tf_idf()\n",
    "print corpus.tf_idf.shape"
   ]
  },
  {
   "cell_type": "code",
   "execution_count": 23,
   "metadata": {
    "collapsed": false
   },
   "outputs": [
    {
     "name": "stdout",
     "output_type": "stream",
     "text": [
      "(20, 20)\n",
      "20\n"
     ]
    },
    {
     "data": {
      "text/plain": [
       "True"
      ]
     },
     "execution_count": 23,
     "metadata": {},
     "output_type": "execute_result"
    }
   ],
   "source": [
    "import scipy\n",
    "\n",
    "cosine_matrix = np.zeros((corpus.N, corpus.N))\n",
    "print cosine_matrix.shape\n",
    "\n",
    "print corpus.N\n",
    "for i in range(corpus.N):\n",
    "    for j in range(corpus.N):\n",
    "        if i == j:\n",
    "            cosine_matrix[i,j] = 1\n",
    "        elif j < i:\n",
    "            cosine_matrix[i,j] = cosine_matrix[j,i]\n",
    "        else:\n",
    "            cosine_matrix[i,j] = scipy.spatial.distance.cosine(corpus.tf_idf[i,:],corpus.tf_idf[j,:])"
   ]
  }
 ],
 "metadata": {
  "kernelspec": {
   "display_name": "Python 2",
   "language": "python",
   "name": "python2"
  },
  "language_info": {
   "codemirror_mode": {
    "name": "ipython",
    "version": 2
   },
   "file_extension": ".py",
   "mimetype": "text/x-python",
   "name": "python",
   "nbconvert_exporter": "python",
   "pygments_lexer": "ipython2",
   "version": "2.7.10"
  }
 },
 "nbformat": 4,
 "nbformat_minor": 0
}
