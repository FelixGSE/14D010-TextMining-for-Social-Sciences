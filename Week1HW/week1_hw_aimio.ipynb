{
 "cells": [
  {
   "cell_type": "markdown",
   "metadata": {},
   "source": [
    "### Exercise 1\n"
   ]
  },
  {
   "cell_type": "code",
   "execution_count": 1,
   "metadata": {
    "collapsed": true
   },
   "outputs": [],
   "source": [
    "import numpy as np\n",
    "import codecs\n",
    "import nltk\n",
    "import re\n",
    "from nltk.tokenize import wordpunct_tokenize\n",
    "from nltk import PorterStemmer\n",
    "\n",
    "\"\"\"\n",
    "This is a class sherlock. \n",
    "Notice how it is defined with the keyword `class` and a name that begins with a capital letter\n",
    "\"\"\"\n",
    "\n",
    "class Document():\n",
    "    \n",
    "    \"\"\" The Doc class rpresents a class of individul documents\n",
    "    \n",
    "    \"\"\"\n",
    "    \n",
    "    def __init__(self, speech_year, speech_pres, speech_text):\n",
    "        self.year = speech_year\n",
    "        self.pres = speech_pres\n",
    "        self.text = speech_text.lower()\n",
    "        self.tokens = np.array(wordpunct_tokenize(self.text))\n",
    "    \n",
    "    def token_clean(self,length):\n",
    "\n",
    "        \"\"\" \n",
    "        description: strip out non-alpha tokens and tokens of length > 'length'\n",
    "        input: length: cut off length \n",
    "        \"\"\"\n",
    "\n",
    "        self.tokens = np.array([t for t in self.tokens if (t.isalpha() and len(t) > length)])\n",
    "\n",
    "\n",
    "    def stopword_remove(self, stopwords):\n",
    "\n",
    "        \"\"\"\n",
    "        description: Remove stopwords from tokens.\n",
    "        input: stopwords: a suitable list of stopwords\n",
    "        \"\"\"\n",
    "\n",
    "        \n",
    "        self.tokens = np.array([t for t in self.tokens if t not in stopwords])\n",
    "\n",
    "\n",
    "    def stem(self):\n",
    "\n",
    "        \"\"\"\n",
    "        description: Stem tokens with Porter Stemmer.\n",
    "        \"\"\"\n",
    "        \n",
    "        self.tokens = np.array([PorterStemmer().stem(t) for t in self.tokens])\n",
    "        \n"
   ]
  },
  {
   "cell_type": "code",
   "execution_count": 2,
   "metadata": {
    "collapsed": false
   },
   "outputs": [],
   "source": [
    "import re\n",
    "import math\n",
    "import numpy as np\n",
    "from collections import Counter\n",
    "\n",
    "class Corpus():\n",
    "    \n",
    "    \"\"\" \n",
    "    The Corpus class represents a document collection\n",
    "     \n",
    "    \"\"\"\n",
    "    # I added in the initialization the dictionary with respect to which you want to compute the ranking \n",
    "    # (and numb for the number of top documents you want to consider), and method == \"tdidf\" or \"doc-term\"\n",
    "    def __init__(self, doc_data, stopword_file, clean_length):\n",
    "        \"\"\"\n",
    "        Notice that the __init__ method is invoked everytime an object of the class\n",
    "        is instantiated\n",
    "        \"\"\"\n",
    "        \n",
    "        #Initialise documents by invoking the appropriate class\n",
    "        self.docs = [Document(doc[0], doc[1], doc[2]) for doc in doc_data] \n",
    "        \n",
    "        self.N = len(self.docs)\n",
    "        self.clean_length = clean_length\n",
    "        \n",
    "        #get a list of stopwords\n",
    "        self.create_stopwords(stopword_file, clean_length)\n",
    "        \n",
    "        #stopword removal, token cleaning and stemming to docs\n",
    "        self.clean_docs(2)\n",
    "        \n",
    "        #create vocabulary\n",
    "        self.corpus_tokens()\n",
    "        \n",
    "        \n",
    "    def clean_docs(self, length):\n",
    "        \"\"\" \n",
    "        Applies stopword removal, token cleaning and stemming to docs\n",
    "        \"\"\"\n",
    "        for doc in self.docs:\n",
    "            doc.token_clean(length)\n",
    "            doc.stopword_remove(self.stopwords)\n",
    "            doc.stem()        \n",
    "    \n",
    "    def create_stopwords(self, stopword_file, length):\n",
    "        \"\"\"\n",
    "        description: parses a file of stowords, removes words of length < 'length' and \n",
    "        stems it\n",
    "        input: length: cutoff length for words\n",
    "               stopword_file: stopwords file to parse\n",
    "        \"\"\"\n",
    "        \n",
    "        with codecs.open(stopword_file,'r','utf-8') as f: raw = f.read()\n",
    "        \n",
    "        self.stopwords = (np.array([PorterStemmer().stem(word) \n",
    "                                    for word in list(raw.splitlines()) if len(word) > length]))\n",
    "        \n",
    "     \n",
    "    def corpus_tokens(self):\n",
    "        \"\"\"\n",
    "        description: create a set of all tokens or in other words a vocabulary\n",
    "        \"\"\"\n",
    "        \n",
    "        #initialise an empty set\n",
    "        self.token_set = set()\n",
    "        for doc in self.docs:\n",
    "            self.token_set = self.token_set.union(doc.tokens) \n",
    "\n",
    "                \n",
    "    def generate_document_term_matrix(self):\n",
    "        \"\"\"\n",
    "        description: create the document_term_matrix\n",
    "        \"\"\"\n",
    "        dimD = self.N\n",
    "        dimV = len(self.token_set)\n",
    "        terms_list = list(self.token_set)\n",
    "        document_term_matrix = np.zeros((dimD, dimV))        \n",
    "        for i in range(dimD):\n",
    "            document = self.docs[i]\n",
    "            if i%25==0: print 'counting terms for doc: ' + str(i)\n",
    "            word_counts = Counter(document.tokens)\n",
    "            for word_count_pair in word_counts.most_common():\n",
    "                word = word_count_pair[0]\n",
    "                count = word_count_pair[1]\n",
    "                term_idx = terms_list.index(word)\n",
    "                doc_term_tuple = (i, term_idx)\n",
    "                document_term_matrix.itemset(doc_term_tuple, count)\n",
    "        self.document_term_matrix = document_term_matrix\n",
    "\n",
    "    # exercise 1\n",
    "    def generate_idfv(self):\n",
    "        \"\"\"\n",
    "        computes the inverse document frequency of each term v\n",
    "        \"\"\"\n",
    "        D = self.N\n",
    "        # idf_{v} = log(D/d_fv)\n",
    "        terms_list = list(self.token_set)\n",
    "        self.idfv = dict.fromkeys(terms_list, 0)\n",
    "        # creates a hash {'term':0,'term2':0,...}\n",
    "        for v in self.token_set:\n",
    "            term_idx = terms_list.index(v)\n",
    "            d_fv = np.sum(self.document_term_matrix[:,term_idx] > 0)\n",
    "            c = math.log10(D/d_fv)\n",
    "            self.idfv[v] = c\n",
    "\n",
    "    def generate_tf_idf(self):\n",
    "        D = self.N\n",
    "        terms_list = list(self.token_set)\n",
    "        tf_idf = np.zeros(self.document_term_matrix.shape)\n",
    "        for doc_i in range(D):\n",
    "            if doc_i%25==0: print 'counting terms for doc: ' + str(doc_i)\n",
    "            for v_i in range(len(terms_list)):\n",
    "                doc_term_tuple = (doc_i, v_i)\n",
    "                xdv_score = self.document_term_matrix.item(doc_term_tuple)\n",
    "                if xdv_score > 0:\n",
    "                    idf_score = self.idfv[terms_list[v_i]]\n",
    "                    if idf_score > 0:\n",
    "                        tf_idf_score = 1 + np.log(xdv_score*idf_score)\n",
    "                        tf_idf.itemset(doc_term_tuple, tf_idf_score)\n",
    "        self.tf_idf = tf_idf\n",
    "\n",
    "    # FIXME: return top n documents\n",
    "    def dict_rank(self, numb, dictionary, metric):\n",
    "        \"\"\"\n",
    "        computes the dictionary rank of the top numb documents, based on the dictionary and method_matrix \n",
    "        (either doc-term or tdidf)\n",
    "        \"\"\"\n",
    "        terms_list = list(self.token_set)\n",
    "        idcs = [terms_list.index(item) for item in dictionary]\n",
    "        order = []\n",
    "        if metric == 'doc-term':\n",
    "            cols = tuple([list(self.document_term_matrix[:,i]) for i in idcs])\n",
    "            order = list(np.lexsort(cols))\n",
    "            order.reverse()\n",
    "        elif metric == 'tf_idf':\n",
    "            cols = tuple([list(self.tf_idf[:,i]) for i in idcs])\n",
    "            order = list(np.lexsort(cols))\n",
    "            order.reverse()\n",
    "        return order"
   ]
  },
  {
   "cell_type": "code",
   "execution_count": 3,
   "metadata": {
    "collapsed": true
   },
   "outputs": [],
   "source": [
    "def parse_text(textraw, regex):\n",
    "    \"\"\"takes raw string and performs two operations\n",
    "    1. Breaks text into a list of speech, president and speech\n",
    "    2. breaks speech into paragraphs\n",
    "    \"\"\"\n",
    "    prs_yr_spch_reg = re.compile(regex, re.MULTILINE|re.DOTALL)\n",
    "    \n",
    "    #Each tuple contains the year, last ane of the president and the speech text\n",
    "    prs_yr_spch = prs_yr_spch_reg.findall(textraw)\n",
    "    \n",
    "    #convert immutabe tuple to mutable list\n",
    "    prs_yr_spch = [list(tup) for tup in prs_yr_spch]\n",
    "    \n",
    "    for i in range(len(prs_yr_spch)):\n",
    "        prs_yr_spch[i][2] = prs_yr_spch[i][2].replace('\\n', '')\n",
    "    \n",
    "    #sort\n",
    "    prs_yr_spch.sort()\n",
    "    \n",
    "    return(prs_yr_spch)"
   ]
  },
  {
   "cell_type": "code",
   "execution_count": 4,
   "metadata": {
    "collapsed": false
   },
   "outputs": [],
   "source": [
    "text = open('sou_all.txt', 'r').read()\n",
    "regex = \"_(\\d{4}).*?_[a-zA-Z]+.*?_[a-zA-Z]+.*?_([a-zA-Z]+)_\\*+(\\\\n{2}.*?)\\\\n{3}\"\n",
    "pres_speech_list = parse_text(text, regex)"
   ]
  },
  {
   "cell_type": "code",
   "execution_count": 5,
   "metadata": {
    "collapsed": false,
    "scrolled": true
   },
   "outputs": [
    {
     "name": "stdout",
     "output_type": "stream",
     "text": [
      " fellow-citizens of the s\n"
     ]
    }
   ],
   "source": [
    "#Instantite the corpus class\n",
    "# REVERT: only a subset for faster iterations\n",
    "corpus = Corpus(pres_speech_list, 'stopwords.txt', 3)\n",
    "print corpus.docs[0].text[0:25]"
   ]
  },
  {
   "cell_type": "code",
   "execution_count": 6,
   "metadata": {
    "collapsed": false
   },
   "outputs": [
    {
     "name": "stdout",
     "output_type": "stream",
     "text": [
      "counting terms for doc: 0\n",
      "counting terms for doc: 25\n",
      "counting terms for doc: 50\n",
      "counting terms for doc: 75\n",
      "counting terms for doc: 100\n",
      "counting terms for doc: 125\n",
      "counting terms for doc: 150\n",
      "counting terms for doc: 175\n",
      "counting terms for doc: 200\n",
      "counting terms for doc: 225\n",
      "13588\n",
      "counting terms for doc: 0\n",
      "counting terms for doc: 25\n",
      "counting terms for doc: 50\n",
      "counting terms for doc: 75\n",
      "counting terms for doc: 100\n",
      "counting terms for doc: 125\n",
      "counting terms for doc: 150\n",
      "counting terms for doc: 175\n",
      "counting terms for doc: 200\n",
      "counting terms for doc: 225\n",
      "(236, 13588)\n"
     ]
    }
   ],
   "source": [
    "# DEMO\n",
    "corpus.generate_document_term_matrix()\n",
    "corpus.document_term_matrix[:,0]\n",
    "\n",
    "corpus.generate_idfv()\n",
    "print len(corpus.idfv) # == len(corpus.token_set)\n",
    "corpus.idfv[corpus.idfv.keys()[9]]\n",
    "\n",
    "corpus.generate_tf_idf()\n",
    "print corpus.tf_idf.shape"
   ]
  },
  {
   "cell_type": "code",
   "execution_count": 7,
   "metadata": {
    "collapsed": false
   },
   "outputs": [
    {
     "name": "stdout",
     "output_type": "stream",
     "text": [
      "[155, 201, 227, 73, 163, 215, 102, 107, 172, 45]\n",
      "[155, 227, 201, 163, 73, 215, 172, 153, 129, 107]\n"
     ]
    }
   ],
   "source": [
    "dictionary = [\"all\",\"children\",\"forget\"]\n",
    "print corpus.dict_rank(10, dictionary, 'doc-term')[0:10]\n",
    "print corpus.dict_rank(10, dictionary, 'tf_idf')[0:10]"
   ]
  },
  {
   "cell_type": "markdown",
   "metadata": {},
   "source": [
    "### Exercise 2"
   ]
  },
  {
   "cell_type": "code",
   "execution_count": 8,
   "metadata": {
    "collapsed": false
   },
   "outputs": [],
   "source": [
    "# Read two texts with positive and negative words\n",
    "text2 = open('positive.txt', 'r').read()\n",
    "dictionary_pos = text2.splitlines()\n",
    "dictionary_pos = filter(None, dictionary_pos) # define the positive words dictionary\n",
    "text3 = open('negative.txt', 'r').read()\n",
    "dictionary_neg = text3.splitlines()\n",
    "dictionary_neg = filter(None, dictionary_neg) # define the negative words dictionary\n",
    "dictionary_neg = [re.sub(r'\\W+', '', string) for string in dictionary_neg]\n"
   ]
  },
  {
   "cell_type": "code",
   "execution_count": 9,
   "metadata": {
    "collapsed": false
   },
   "outputs": [],
   "source": [
    "pos_tokens = set(dictionary_pos).intersection(corpus.token_set)\n",
    "tdidf_pos = corpus.dict_rank(10, pos_tokens, \"tf_idf\")\n",
    "docterm_pos = corpus.dict_rank(10, pos_tokens, \"doc-term\")\n",
    "\n",
    "neg_tokens = set(dictionary_neg).intersection(corpus.token_set)\n",
    "tdidf_neg = corpus.dict_rank(10, neg_tokens, \"tf_idf\")\n",
    "docterm_neg = corpus.dict_rank(10, neg_tokens, \"doc-term\")\n"
   ]
  },
  {
   "cell_type": "code",
   "execution_count": 11,
   "metadata": {
    "collapsed": false
   },
   "outputs": [
    {
     "name": "stdout",
     "output_type": "stream",
     "text": [
      "Counter({'Roosevelt': 11, 'Nixon': 7, 'Clinton': 7, 'Eisenhower': 6, 'Obama': 6, 'Wilson': 5, 'Bush': 4, 'Taft': 4, 'Carter': 4, 'Cleveland': 4, 'Reagan': 3, 'Lincoln': 3, 'Johnson': 3, 'Fillmore': 3, 'Madison': 3, 'Jackson': 2, 'Buren': 2, 'Coolidge': 2, 'Kennedy': 2, 'Hayes': 2, 'Arthur': 2, 'Harrison': 2, 'McKinley': 2, 'Polk': 2, 'Tyler': 1, 'Grant': 1, 'Ford': 1, 'Pierce': 1, 'Adams': 1, 'Buchanan': 1, 'Washington': 1, 'Truman': 1, 'Monroe': 1})\n",
      "\n",
      "Counter({'Roosevelt': 9, 'Clinton': 7, 'Bush': 6, 'Obama': 6, 'Johnson': 6, 'Cleveland': 6, 'Jackson': 5, 'Eisenhower': 5, 'Hayes': 4, 'Carter': 4, 'Buren': 3, 'Reagan': 3, 'Grant': 3, 'Taft': 3, 'Polk': 3, 'Coolidge': 2, 'Pierce': 2, 'Adams': 2, 'Fillmore': 2, 'Nixon': 2, 'Madison': 2, 'Washington': 2, 'Jefferson': 2, 'McKinley': 2, 'Truman': 2, 'Tyler': 1, 'Ford': 1, 'Kennedy': 1, 'Arthur': 1, 'Buchanan': 1, 'Harrison': 1, 'Monroe': 1})\n"
     ]
    }
   ],
   "source": [
    "# 100 most positive speeches by td_idf score\n",
    "most_positive_speeches = [pres_speech_list[i][1] for i in tdidf_pos[0:100]]\n",
    "counts = Counter(most_positive_speeches)\n",
    "print counts\n",
    "\n",
    "print ''\n",
    "most_positive_speeches = [pres_speech_list[i][1] for i in docterm_pos[0:100]]\n",
    "counts = Counter(most_positive_speeches)\n",
    "print counts"
   ]
  },
  {
   "cell_type": "markdown",
   "metadata": {},
   "source": [
    "#### Comments\n",
    "\n"
   ]
  },
  {
   "cell_type": "markdown",
   "metadata": {},
   "source": [
    "### Exercise 3"
   ]
  },
  {
   "cell_type": "code",
   "execution_count": 29,
   "metadata": {
    "collapsed": false
   },
   "outputs": [
    {
     "name": "stdout",
     "output_type": "stream",
     "text": [
      "[('limited', -1), ('suicidal', -2), ('pardon', 2), ('desirable', 2), ('protest', -2), ('lurking', -1), ('controversial', -2), ('hating', -3), ('ridiculous', -3), ('hate', -3)]\n"
     ]
    }
   ],
   "source": [
    "# To create the dictionary\n",
    "def valence_scores():\n",
    "    afinn = dict(map(lambda (k,v): (k,int(v)), \n",
    "                         [ line.split('\\t') for line in open(\"AFINN-111.txt\") ]))\n",
    "    return afinn\n",
    "\n",
    "scores = valence_scores()\n",
    "print [(k, scores[k]) for k in scores.keys()[0:10]]"
   ]
  },
  {
   "cell_type": "markdown",
   "metadata": {},
   "source": [
    "### Exercise 4"
   ]
  },
  {
   "cell_type": "code",
   "execution_count": null,
   "metadata": {
    "collapsed": true
   },
   "outputs": [],
   "source": []
  },
  {
   "cell_type": "code",
   "execution_count": null,
   "metadata": {
    "collapsed": true
   },
   "outputs": [],
   "source": []
  }
 ],
 "metadata": {
  "kernelspec": {
   "display_name": "Python 2",
   "language": "python",
   "name": "python2"
  },
  "language_info": {
   "codemirror_mode": {
    "name": "ipython",
    "version": 2
   },
   "file_extension": ".py",
   "mimetype": "text/x-python",
   "name": "python",
   "nbconvert_exporter": "python",
   "pygments_lexer": "ipython2",
   "version": "2.7.10"
  }
 },
 "nbformat": 4,
 "nbformat_minor": 0
}
