{
 "cells": [
  {
   "cell_type": "markdown",
   "metadata": {},
   "source": [
    "## Week 0 HW2\n",
    "\n",
    "1. This assignment is an individual effort.\n",
    "2. Submission to be uploaded into your group repositories in the folder python_intro\n",
    "3. Deadline is 20th of April 5:00 PM.\n",
    "4. Please follow google's [python styleguide](https://google.github.io/styleguide/pyguide.html) for your code. Pay attention to the guidelines for naming convention, comments and main.\n",
    "5. Code will be checked for plagiarism. Compelling signs of a duplicated effort will lead to a rejection of submission and will attract a 100\\% grade penalty.\n"
   ]
  },
  {
   "cell_type": "markdown",
   "metadata": {},
   "source": [
    "### 1\n",
    "Please load the file provided to you by email. Use _json_ module to read it as a list. "
   ]
  },
  {
   "cell_type": "code",
   "execution_count": 1,
   "metadata": {
    "collapsed": false
   },
   "outputs": [],
   "source": [
    "# 1 use open a connection to the file\n",
    "# 2 read contents of the file\n",
    "# 3 use the json module to read the string as a list\n",
    "#(replace None with relevant code)\n",
    "import re\n",
    "import json\n",
    "\n",
    "file_handle = open(\"1960_Eisenhower_Guglielmo.txt\",\"r\")\n",
    "file_content = file_handle.read()\n",
    "speech = json.loads(file_content)\n"
   ]
  },
  {
   "cell_type": "markdown",
   "metadata": {},
   "source": [
    "Notice that type(speech) is list. Please take a moment to go through the python list documentation and check out the various ways to manipulate lists.  "
   ]
  },
  {
   "cell_type": "markdown",
   "metadata": {},
   "source": [
    "###2\n",
    "The first element of the list is the year of speech, the second element is the president who gave it, while the third is the transcript of the same. \n",
    "\n",
    "1. Inspect the transcript. Note the commonly used non-alphanumerical characters. Use an appropriate method of strings to get rid of them.\n",
    "2. Use an appropriate string method to split the string of the speech into a list of smaller list of words.\n",
    "3. Convert all words into lower case and return the list. Use a for loop. Then use a list comprehension to do the same.  "
   ]
  },
  {
   "cell_type": "code",
   "execution_count": 2,
   "metadata": {
    "collapsed": false
   },
   "outputs": [],
   "source": [
    "#1 \n",
    "stripped_text = re.sub(r'\\W+', ' ', speech[2])\n",
    "\n",
    "#2\n",
    "word_list = re.sub(\"[^\\w]\", \" \",  stripped_text).split()\n",
    "\n",
    "#3 \n",
    "\n",
    "\"\"\"\n",
    "The following ways two ways of writing the for loop are equivalent\n",
    "square = []\n",
    "num_list = [1, 2, 3, 4]\n",
    "for num in num_list:\n",
    "    square.append(num**2)\n",
    "num_square = [num**2 for num in num_list]\n",
    "print square, num_square\n",
    "\"\"\"\n",
    "\n",
    "lower_words = []\n",
    "for num in word_list:\n",
    "    lower_words.append(num.lower())\n",
    "\n",
    "lower_words = [x.lower() for x in word_list]"
   ]
  },
  {
   "cell_type": "markdown",
   "metadata": {},
   "source": [
    "### 3\n",
    "Create a function _preprocess_ that takes as arguments _text_ and _non_alphanum_, a string of non-alphanumeric characters that you want get rid of. Perform all operations specfied in the previous question. However, converting to lowercase should be an optional argument. The data structure returned should be a list of words."
   ]
  },
  {
   "cell_type": "code",
   "execution_count": 3,
   "metadata": {
    "collapsed": false
   },
   "outputs": [],
   "source": [
    "def preprocess(text, nonalphanum, lower = True):\n",
    "    stripped_text = re.sub(r'[^\\w'+nonalphanum+']', ' ',text)\n",
    "    word_list = re.sub(\"[^\\w]\", \" \",  stripped_text).split()\n",
    "    if lower == True:\n",
    "        lower_words = [x.lower() for x in word_list]\n",
    "        return lower_words\n",
    "    return word_list"
   ]
  },
  {
   "cell_type": "markdown",
   "metadata": {},
   "source": [
    "### 4\n",
    "Create a function _word_freq_ that takes as input a word list that has been preprocessed and returns a dictionary of the word frequency. Which is the fourth most frequent word of your word list? (Provide code that computes it)"
   ]
  },
  {
   "cell_type": "code",
   "execution_count": 4,
   "metadata": {
    "collapsed": false
   },
   "outputs": [
    {
     "data": {
      "text/plain": [
       "u'and'"
      ]
     },
     "execution_count": 4,
     "metadata": {},
     "output_type": "execute_result"
    }
   ],
   "source": [
    "def wordfreq(word_list):\n",
    "    word_set = set(word_list)\n",
    "    # create the frequency dictionary\n",
    "    freq = {}\n",
    "    # iterate through them, once per unique word.\n",
    "    for word in word_set:\n",
    "        freq[word] = word_list.count(word) / float(len(word_list))   \n",
    "    return freq\n",
    "\n",
    "freq = wordfreq(lower_words) # produce the dictionary of frequencies\n",
    "ordered = sorted(freq, key=lambda k: (freq[k]), reverse=True)  # order the words by descending frequency\n",
    "ordered[3] # print the fourth element of the just created list"
   ]
  },
  {
   "cell_type": "markdown",
   "metadata": {},
   "source": [
    "### 5\n",
    "Write a function that takes as input a word list and returns a dictionary of the frequencies of word lengths. Do not use the api collections for this assignment. But have a look at its [documentation](https://docs.python.org/2/library/collections.html). Its useful tool to have in your repository."
   ]
  },
  {
   "cell_type": "code",
   "execution_count": 5,
   "metadata": {
    "collapsed": false
   },
   "outputs": [],
   "source": [
    "from collections import Counter\n",
    "\n",
    "counts = Counter(lower_words)\n"
   ]
  },
  {
   "cell_type": "markdown",
   "metadata": {},
   "source": [
    "### 6\n",
    "Load the file _sou_all.txt_ in ./data/pres_speech. Inspect its contents. Familiarise yourself with using regular expressions in python. You can use this [document](https://docs.python.org/2/howto/regex.html) as a starting point. Now use regular expressions to seperate the different speeches. Your function should accept the text and a regular expression as input and return a list of lists. Each element of the list should be a list with following structure:\n",
    "\n",
    "1. year\n",
    "2. president\n",
    "3. List of the transcript of the speech broken down into paragraphs.\n",
    "\n",
    "Save your result as json"
   ]
  },
  {
   "cell_type": "code",
   "execution_count": 157,
   "metadata": {
    "collapsed": false,
    "scrolled": true
   },
   "outputs": [
    {
     "name": "stdout",
     "output_type": "stream",
     "text": [
      "[]\n"
     ]
    }
   ],
   "source": [
    "import re\n",
    "import json\n",
    "\n",
    "file_handle = open(\"sou_all.txt\",\"r+\")\n",
    "text = file_handle.read()\n",
    "\n",
    "clean = re.sub(r'\\_',' ', text) # clean the underscores\n",
    "\n",
    "p = re.compile('\\*\\*\\*\\*\\*\\*\\*\\*\\*\\*')\n",
    "speeches = p.split(clean)   # split the speeches\n",
    "speeches = speeches[1:] # remove the first element of the list, which was empty\n",
    "\n",
    "final = []   # initialize the final list of lists\n",
    "for speech in speeches:\n",
    "    final.append(filter(None, re.split(r'(\\d\\d\\d\\d+)[\\s,\\*][\\s,oral] (\\w.*) \\*\\*\\*\\*\\*', speech))[1:])   # QUESTO ROVINA TUTTO\n",
    "    \n",
    "    \n",
    "# FINAL[18], FINAL[2] (E PROBABILMENTE ANCHE ALTRI) SONO VUOTI: SISTEMA!    \n",
    "\n",
    "    \n",
    "print(final[18])#a = re.split(r'(\\n\\n)', fin[2])    \n",
    "#import json\n",
    "#with open('data.txt', 'w') as outfile:\n",
    "#    json.dump(final, outfile,separators=('\\n','\\n'))\n",
    "    \n",
    "    \n",
    "#outfile = open(\"data2.txt\", \"a\")\n",
    "#for fin in final:\n",
    "#    for i in fin:\n",
    "#        outfile.write(i)\n",
    "#    json.dump(final, outfile) \n",
    "#print >> outfile, \"\\n\\n\".join(str(i) for i in your_list)\n",
    "#outfile.close()\n",
    "\n",
    "\n",
    "\n",
    "#with open(\"data3.txt\", mode='w') as f:\n",
    " #   json.dump([], f)\n",
    "\n",
    "#for fin in final:\n",
    "#    for i in fin:\n",
    " #        with open(\"data3.txt\", mode='a+') as feedsjson:\n",
    "    #feeds = json.load(feedsjson)\n",
    "     #       json.dump(i, feeds)\n",
    "        \n",
    "   "
   ]
  },
  {
   "cell_type": "code",
   "execution_count": null,
   "metadata": {
    "collapsed": true
   },
   "outputs": [],
   "source": []
  },
  {
   "cell_type": "code",
   "execution_count": null,
   "metadata": {
    "collapsed": true
   },
   "outputs": [],
   "source": []
  }
 ],
 "metadata": {
  "kernelspec": {
   "display_name": "Python 2",
   "language": "python",
   "name": "python2"
  },
  "language_info": {
   "codemirror_mode": {
    "name": "ipython",
    "version": 2
   },
   "file_extension": ".py",
   "mimetype": "text/x-python",
   "name": "python",
   "nbconvert_exporter": "python",
   "pygments_lexer": "ipython2",
   "version": "2.7.11"
  }
 },
 "nbformat": 4,
 "nbformat_minor": 0
}
