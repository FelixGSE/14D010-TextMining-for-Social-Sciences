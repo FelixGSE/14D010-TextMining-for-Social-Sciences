{
 "cells": [
  {
   "cell_type": "markdown",
   "metadata": {},
   "source": [
    "### Exercise 1\n"
   ]
  },
  {
   "cell_type": "markdown",
   "metadata": {},
   "source": [
    "#### Load the state of the union data:"
   ]
  },
  {
   "cell_type": "code",
   "execution_count": 12,
   "metadata": {
    "collapsed": false
   },
   "outputs": [],
   "source": [
    "execfile('parse_text.py')\n",
    "\n",
    "text = open('../Week1HW/sou_all.txt', 'r').read()\n",
    "regex = \"_(\\d{4}).*?_[a-zA-Z]+.*?_[a-zA-Z]+.*?_([a-zA-Z]+)_\\*+(\\\\n{2}.*?)\\\\n{3}\"\n",
    "pres_speech_list = parse_text(text, regex)"
   ]
  },
  {
   "cell_type": "markdown",
   "metadata": {},
   "source": [
    "#### Load the presidential metadata so we can group by party affiliation:"
   ]
  },
  {
   "cell_type": "code",
   "execution_count": 13,
   "metadata": {
    "collapsed": false
   },
   "outputs": [
    {
     "name": "stdout",
     "output_type": "stream",
     "text": [
      "{'Wilson': 'Democratic', 'Jackson': 'Democratic', 'Buren': 'Democratic', 'Reagan': 'Republican', 'Pierce': 'Democratic', 'Bush': 'Republican', 'Tyler': 'Whig', 'Coolidge': 'Republican', 'Hoover': 'Republican', 'Harding': 'Republican', 'Grant': 'Republican', 'Ford': 'Republican', 'Eisenhower': 'Republican', 'Obama': 'Democratic', 'Lincoln': 'Republican/National Union', 'Adams': 'Federalist', 'Johnson': 'Democratic/National Union', 'Kennedy': 'Democratic', 'Roosevelt': 'Republican', 'Hayes': 'Republican', 'Arthur': 'Republican', 'Taft': 'Republican', 'Henry': 'Whig', 'Clinton': 'Democratic', 'Nixon': 'Republican', 'Madison': 'Democratic-Republican', 'Taylor': 'Whig', 'Fillmore': 'Whig', 'Carter': 'Democratic', 'Buchanan': 'Democratic', 'Washington': 'Independent', 'Garfield': 'Republican', 'Jefferson': 'Democratic-Republican', 'Harrison': 'Republican', 'Cleveland': 'Democratic', 'McKinley': 'Republican', 'Truman': 'Democratic', 'Polk': 'Democratic', 'Monroe': 'Democratic-Republican'}\n",
      "39\n"
     ]
    }
   ],
   "source": [
    "from numpy import genfromtxt\n",
    "pres_metadata = genfromtxt('pres_metadata.tsv', delimiter='\\t', names = True, dtype= None)\n",
    "\n",
    "pres_parties = {}\n",
    "for i in range(len(pres_metadata)):\n",
    "    last_name = pres_metadata[i]['Last']\n",
    "    if not last_name in pres_parties.keys():\n",
    "        pres_parties[last_name] = pres_metadata[i]['Party']\n",
    "\n",
    "print pres_parties\n",
    "print len(pres_parties.keys())"
   ]
  },
  {
   "cell_type": "markdown",
   "metadata": {},
   "source": [
    "#### Instantiate the corpus, which now comes with party affiliations:"
   ]
  },
  {
   "cell_type": "code",
   "execution_count": 37,
   "metadata": {
    "collapsed": false,
    "scrolled": true
   },
   "outputs": [
    {
     "name": "stdout",
     "output_type": "stream",
     "text": [
      " fellow-citizens of the s\n",
      "0: Washington is affliated with the Independent party.\n",
      "1: Washington is affliated with the Independent party.\n",
      "2: Washington is affliated with the Independent party.\n",
      "3: Washington is affliated with the Independent party.\n",
      "4: Washington is affliated with the Independent party.\n",
      "5: Washington is affliated with the Independent party.\n",
      "6: Washington is affliated with the Independent party.\n",
      "7: Washington is affliated with the Independent party.\n",
      "8: Jefferson is affliated with the Democratic-Republican party.\n",
      "9: Jefferson is affliated with the Democratic-Republican party.\n",
      "10: Jefferson is affliated with the Democratic-Republican party.\n",
      "11: Jefferson is affliated with the Democratic-Republican party.\n",
      "12: Jefferson is affliated with the Democratic-Republican party.\n",
      "13: Jefferson is affliated with the Democratic-Republican party.\n",
      "14: Jefferson is affliated with the Democratic-Republican party.\n",
      "15: Jefferson is affliated with the Democratic-Republican party.\n",
      "16: Madison is affliated with the Democratic-Republican party.\n",
      "17: Madison is affliated with the Democratic-Republican party.\n",
      "18: Madison is affliated with the Democratic-Republican party.\n",
      "19: Madison is affliated with the Democratic-Republican party.\n",
      "20: Madison is affliated with the Democratic-Republican party.\n",
      "21: Madison is affliated with the Democratic-Republican party.\n",
      "22: Madison is affliated with the Democratic-Republican party.\n",
      "23: Madison is affliated with the Democratic-Republican party.\n",
      "24: Monroe is affliated with the Democratic-Republican party.\n",
      "25: Monroe is affliated with the Democratic-Republican party.\n",
      "26: Monroe is affliated with the Democratic-Republican party.\n",
      "27: Monroe is affliated with the Democratic-Republican party.\n",
      "28: Monroe is affliated with the Democratic-Republican party.\n",
      "29: Monroe is affliated with the Democratic-Republican party.\n",
      "30: Monroe is affliated with the Democratic-Republican party.\n",
      "31: Monroe is affliated with the Democratic-Republican party.\n",
      "32: Adams is affliated with the Federalist party.\n",
      "33: Adams is affliated with the Federalist party.\n",
      "34: Adams is affliated with the Federalist party.\n",
      "35: Adams is affliated with the Federalist party.\n",
      "36: Adams is affliated with the Federalist party.\n",
      "37: Adams is affliated with the Federalist party.\n",
      "38: Adams is affliated with the Federalist party.\n",
      "39: Adams is affliated with the Federalist party.\n",
      "40: Johnson is affliated with the Democratic/National Union party.\n",
      "41: Johnson is affliated with the Democratic/National Union party.\n",
      "42: Johnson is affliated with the Democratic/National Union party.\n",
      "43: Johnson is affliated with the Democratic/National Union party.\n",
      "44: Johnson is affliated with the Democratic/National Union party.\n",
      "45: Johnson is affliated with the Democratic/National Union party.\n",
      "46: Johnson is affliated with the Democratic/National Union party.\n",
      "47: Johnson is affliated with the Democratic/National Union party.\n",
      "48: Johnson is affliated with the Democratic/National Union party.\n",
      "49: Johnson is affliated with the Democratic/National Union party.\n",
      "50: Tyler is affliated with the Whig party.\n",
      "51: Tyler is affliated with the Whig party.\n",
      "52: Tyler is affliated with the Whig party.\n",
      "53: Tyler is affliated with the Whig party.\n",
      "54: Taylor is affliated with the Whig party.\n",
      "55: Fillmore is affliated with the Whig party.\n",
      "56: Fillmore is affliated with the Whig party.\n",
      "57: Fillmore is affliated with the Whig party.\n",
      "58: Grant is affliated with the Republican party.\n",
      "59: Grant is affliated with the Republican party.\n",
      "60: Grant is affliated with the Republican party.\n",
      "61: Grant is affliated with the Republican party.\n",
      "62: Grant is affliated with the Republican party.\n",
      "63: Grant is affliated with the Republican party.\n",
      "64: Grant is affliated with the Republican party.\n",
      "65: Grant is affliated with the Republican party.\n",
      "66: Hayes is affliated with the Republican party.\n",
      "67: Hayes is affliated with the Republican party.\n",
      "68: Hayes is affliated with the Republican party.\n",
      "69: Hayes is affliated with the Republican party.\n",
      "70: Arthur is affliated with the Republican party.\n",
      "71: Arthur is affliated with the Republican party.\n",
      "72: Arthur is affliated with the Republican party.\n",
      "73: Arthur is affliated with the Republican party.\n",
      "74: Harrison is affliated with the Republican party.\n",
      "75: Harrison is affliated with the Republican party.\n",
      "76: Harrison is affliated with the Republican party.\n",
      "77: Harrison is affliated with the Republican party.\n",
      "78: McKinley is affliated with the Republican party.\n",
      "79: McKinley is affliated with the Republican party.\n",
      "80: McKinley is affliated with the Republican party.\n",
      "81: McKinley is affliated with the Republican party.\n",
      "82: Roosevelt is affliated with the Republican party.\n",
      "83: Roosevelt is affliated with the Republican party.\n",
      "84: Roosevelt is affliated with the Republican party.\n",
      "85: Roosevelt is affliated with the Republican party.\n",
      "86: Roosevelt is affliated with the Republican party.\n",
      "87: Roosevelt is affliated with the Republican party.\n",
      "88: Roosevelt is affliated with the Republican party.\n",
      "89: Roosevelt is affliated with the Republican party.\n",
      "90: Taft is affliated with the Republican party.\n",
      "91: Taft is affliated with the Republican party.\n",
      "92: Taft is affliated with the Republican party.\n",
      "93: Taft is affliated with the Republican party.\n",
      "94: Harding is affliated with the Republican party.\n",
      "95: Harding is affliated with the Republican party.\n",
      "96: Coolidge is affliated with the Republican party.\n",
      "97: Coolidge is affliated with the Republican party.\n",
      "98: Coolidge is affliated with the Republican party.\n",
      "99: Coolidge is affliated with the Republican party.\n",
      "100: Coolidge is affliated with the Republican party.\n",
      "101: Coolidge is affliated with the Republican party.\n",
      "102: Hoover is affliated with the Republican party.\n",
      "103: Hoover is affliated with the Republican party.\n",
      "104: Hoover is affliated with the Republican party.\n",
      "105: Hoover is affliated with the Republican party.\n",
      "106: Roosevelt is affliated with the Republican party.\n",
      "107: Roosevelt is affliated with the Republican party.\n",
      "108: Roosevelt is affliated with the Republican party.\n",
      "109: Roosevelt is affliated with the Republican party.\n",
      "110: Roosevelt is affliated with the Republican party.\n",
      "111: Roosevelt is affliated with the Republican party.\n",
      "112: Roosevelt is affliated with the Republican party.\n",
      "113: Roosevelt is affliated with the Republican party.\n",
      "114: Roosevelt is affliated with the Republican party.\n",
      "115: Roosevelt is affliated with the Republican party.\n",
      "116: Roosevelt is affliated with the Republican party.\n",
      "117: Roosevelt is affliated with the Republican party.\n",
      "118: Roosevelt is affliated with the Republican party.\n",
      "119: Eisenhower is affliated with the Republican party.\n",
      "120: Eisenhower is affliated with the Republican party.\n",
      "121: Eisenhower is affliated with the Republican party.\n",
      "122: Eisenhower is affliated with the Republican party.\n",
      "123: Eisenhower is affliated with the Republican party.\n",
      "124: Eisenhower is affliated with the Republican party.\n",
      "125: Eisenhower is affliated with the Republican party.\n",
      "126: Eisenhower is affliated with the Republican party.\n",
      "127: Eisenhower is affliated with the Republican party.\n",
      "128: Eisenhower is affliated with the Republican party.\n",
      "129: Nixon is affliated with the Republican party.\n",
      "130: Nixon is affliated with the Republican party.\n",
      "131: Nixon is affliated with the Republican party.\n",
      "132: Nixon is affliated with the Republican party.\n",
      "133: Nixon is affliated with the Republican party.\n",
      "134: Nixon is affliated with the Republican party.\n",
      "135: Nixon is affliated with the Republican party.\n",
      "136: Nixon is affliated with the Republican party.\n",
      "137: Ford is affliated with the Republican party.\n",
      "138: Ford is affliated with the Republican party.\n",
      "139: Ford is affliated with the Republican party.\n",
      "140: Reagan is affliated with the Republican party.\n",
      "141: Reagan is affliated with the Republican party.\n",
      "142: Reagan is affliated with the Republican party.\n",
      "143: Reagan is affliated with the Republican party.\n",
      "144: Reagan is affliated with the Republican party.\n",
      "145: Reagan is affliated with the Republican party.\n",
      "146: Reagan is affliated with the Republican party.\n",
      "147: Reagan is affliated with the Republican party.\n",
      "148: Bush is affliated with the Republican party.\n",
      "149: Bush is affliated with the Republican party.\n",
      "150: Bush is affliated with the Republican party.\n",
      "151: Bush is affliated with the Republican party.\n",
      "152: Bush is affliated with the Republican party.\n",
      "153: Bush is affliated with the Republican party.\n",
      "154: Bush is affliated with the Republican party.\n",
      "155: Bush is affliated with the Republican party.\n",
      "156: Bush is affliated with the Republican party.\n",
      "157: Bush is affliated with the Republican party.\n",
      "158: Bush is affliated with the Republican party.\n",
      "159: Bush is affliated with the Republican party.\n",
      "160: Lincoln is affliated with the Republican/National Union party.\n",
      "161: Lincoln is affliated with the Republican/National Union party.\n",
      "162: Lincoln is affliated with the Republican/National Union party.\n",
      "163: Lincoln is affliated with the Republican/National Union party.\n",
      "164: Jackson is affliated with the Democratic party.\n",
      "165: Jackson is affliated with the Democratic party.\n",
      "166: Jackson is affliated with the Democratic party.\n",
      "167: Jackson is affliated with the Democratic party.\n",
      "168: Jackson is affliated with the Democratic party.\n",
      "169: Jackson is affliated with the Democratic party.\n",
      "170: Jackson is affliated with the Democratic party.\n",
      "171: Jackson is affliated with the Democratic party.\n",
      "172: Buren is affliated with the Democratic party.\n",
      "173: Buren is affliated with the Democratic party.\n",
      "174: Buren is affliated with the Democratic party.\n",
      "175: Buren is affliated with the Democratic party.\n",
      "176: Polk is affliated with the Democratic party.\n",
      "177: Polk is affliated with the Democratic party.\n",
      "178: Polk is affliated with the Democratic party.\n",
      "179: Polk is affliated with the Democratic party.\n",
      "180: Pierce is affliated with the Democratic party.\n",
      "181: Pierce is affliated with the Democratic party.\n",
      "182: Pierce is affliated with the Democratic party.\n",
      "183: Pierce is affliated with the Democratic party.\n",
      "184: Buchanan is affliated with the Democratic party.\n",
      "185: Buchanan is affliated with the Democratic party.\n",
      "186: Buchanan is affliated with the Democratic party.\n",
      "187: Buchanan is affliated with the Democratic party.\n",
      "188: Cleveland is affliated with the Democratic party.\n",
      "189: Cleveland is affliated with the Democratic party.\n",
      "190: Cleveland is affliated with the Democratic party.\n",
      "191: Cleveland is affliated with the Democratic party.\n",
      "192: Cleveland is affliated with the Democratic party.\n",
      "193: Cleveland is affliated with the Democratic party.\n",
      "194: Cleveland is affliated with the Democratic party.\n",
      "195: Cleveland is affliated with the Democratic party.\n",
      "196: Wilson is affliated with the Democratic party.\n",
      "197: Wilson is affliated with the Democratic party.\n",
      "198: Wilson is affliated with the Democratic party.\n",
      "199: Wilson is affliated with the Democratic party.\n",
      "200: Wilson is affliated with the Democratic party.\n",
      "201: Wilson is affliated with the Democratic party.\n",
      "202: Wilson is affliated with the Democratic party.\n",
      "203: Wilson is affliated with the Democratic party.\n",
      "204: Truman is affliated with the Democratic party.\n",
      "205: Truman is affliated with the Democratic party.\n",
      "206: Truman is affliated with the Democratic party.\n",
      "207: Truman is affliated with the Democratic party.\n",
      "208: Truman is affliated with the Democratic party.\n",
      "209: Truman is affliated with the Democratic party.\n",
      "210: Truman is affliated with the Democratic party.\n",
      "211: Truman is affliated with the Democratic party.\n",
      "212: Kennedy is affliated with the Democratic party.\n",
      "213: Kennedy is affliated with the Democratic party.\n",
      "214: Kennedy is affliated with the Democratic party.\n",
      "215: Carter is affliated with the Democratic party.\n",
      "216: Carter is affliated with the Democratic party.\n",
      "217: Carter is affliated with the Democratic party.\n",
      "218: Carter is affliated with the Democratic party.\n",
      "219: Carter is affliated with the Democratic party.\n",
      "220: Carter is affliated with the Democratic party.\n",
      "221: Carter is affliated with the Democratic party.\n",
      "222: Clinton is affliated with the Democratic party.\n",
      "223: Clinton is affliated with the Democratic party.\n",
      "224: Clinton is affliated with the Democratic party.\n",
      "225: Clinton is affliated with the Democratic party.\n",
      "226: Clinton is affliated with the Democratic party.\n",
      "227: Clinton is affliated with the Democratic party.\n",
      "228: Clinton is affliated with the Democratic party.\n",
      "229: Clinton is affliated with the Democratic party.\n",
      "230: Obama is affliated with the Democratic party.\n",
      "231: Obama is affliated with the Democratic party.\n",
      "232: Obama is affliated with the Democratic party.\n",
      "233: Obama is affliated with the Democratic party.\n",
      "234: Obama is affliated with the Democratic party.\n",
      "235: Obama is affliated with the Democratic party.\n"
     ]
    }
   ],
   "source": [
    "execfile('corpus.py')\n",
    "execfile('document.py')\n",
    "\n",
    "#Instantite the corpus class\n",
    "#corpus = Corpus(pres_speech_list, '../Week1HW/stopwords.txt', 3, pres_parties)\n",
    "print corpus.docs[0].text[0:25]\n",
    "\n",
    "# Test for party affiliations\n",
    "#\n",
    "for i in range(len(corpus.docs)):\n",
    "    print str(i) + ': ' + corpus.docs[i].pres + ' is affliated with the ' + str(corpus.docs[i].party) + ' party.'"
   ]
  },
  {
   "cell_type": "markdown",
   "metadata": {},
   "source": [
    "#### Generate the tf-idf-weighted document-term matrix X for a corpus of your choice:"
   ]
  },
  {
   "cell_type": "code",
   "execution_count": 23,
   "metadata": {
    "collapsed": false
   },
   "outputs": [
    {
     "name": "stdout",
     "output_type": "stream",
     "text": [
      "counting terms for doc: 0\n",
      "counting terms for doc: 25\n",
      "counting terms for doc: 50\n",
      "counting terms for doc: 75\n",
      "counting terms for doc: 100\n",
      "counting terms for doc: 125\n",
      "counting terms for doc: 150\n",
      "counting terms for doc: 175\n",
      "counting terms for doc: 200\n",
      "counting terms for doc: 225\n",
      "time spent computing document_term_matrix: 191.213593006\n",
      "13588\n",
      "counting terms for doc: 0\n",
      "counting terms for doc: 25\n",
      "counting terms for doc: 50\n",
      "counting terms for doc: 75\n",
      "counting terms for doc: 100\n",
      "counting terms for doc: 125\n",
      "counting terms for doc: 150\n",
      "counting terms for doc: 175\n",
      "counting terms for doc: 200\n",
      "counting terms for doc: 225\n",
      "(236, 13588)\n"
     ]
    }
   ],
   "source": [
    "import time\n",
    "t0 = time.time()\n",
    "corpus.generate_document_term_matrix()\n",
    "corpus.document_term_matrix[:,0]\n",
    "t1 = time.time()\n",
    "print 'time spent computing document_term_matrix: ' + str(t1 - t0)\n",
    "\n",
    "corpus.generate_idfv()\n",
    "print len(corpus.idfv) # == len(corpus.token_set)\n",
    "corpus.idfv[corpus.idfv.keys()[9]]\n",
    "\n",
    "corpus.generate_tf_idf()\n",
    "print corpus.tf_idf.shape"
   ]
  },
  {
   "cell_type": "markdown",
   "metadata": {},
   "source": [
    "#### Cosine similarity matrix:\n",
    "\n",
    "A function for generating the cosine similarity matrix and implementation with the original tf-idf matrix. This will be used for comparison with the principal components below."
   ]
  },
  {
   "cell_type": "code",
   "execution_count": 27,
   "metadata": {
    "collapsed": false
   },
   "outputs": [
    {
     "name": "stdout",
     "output_type": "stream",
     "text": [
      "True\n",
      "True\n",
      "True\n",
      "[ 1.          0.1233673   0.18749003  0.14247549  0.15269546  0.09685395\n",
      "  0.14338882  0.06745857  0.09074177  0.08064543]\n"
     ]
    }
   ],
   "source": [
    "import scipy\n",
    "\n",
    "def gen_cosine_matrix(corpus, doc_term_matrix):\n",
    "    cosine_matrix = np.zeros((corpus.N, corpus.N))\n",
    "    for i in range(corpus.N):\n",
    "        for j in range(corpus.N):\n",
    "            if i == j:\n",
    "                cosine_matrix[i,j] = 1\n",
    "            elif j < i:\n",
    "                cosine_matrix[i,j] = cosine_matrix[j,i]\n",
    "            else:\n",
    "                cosine_matrix[i,j] = 1-scipy.spatial.distance.cosine(doc_term_matrix[i,:], doc_term_matrix[j,:])\n",
    "    return cosine_matrix\n",
    "\n",
    "# Generate the matrix for the original tf-idf matrix\n",
    "cosine_matrix = gen_cosine_matrix(corpus, corpus.tf_idf)\n",
    "\n",
    "# Test the matrix has the expected symmetry\n",
    "print cosine_matrix.item((1,2)) == cosine_matrix.item((2,1))\n",
    "print cosine_matrix.item((2,2)) == 1\n",
    "print cosine_matrix.item((2,1)) != cosine_matrix.item((2,3))\n",
    "\n",
    "# Sanity check the values\n",
    "print cosine_matrix[0,:][0:10]"
   ]
  },
  {
   "cell_type": "markdown",
   "metadata": {},
   "source": [
    "#### Visualize the tf-idf cosine similarity matrix using a heatmap\n",
    "\n",
    "Again, this will be used later on for visual comparison."
   ]
  },
  {
   "cell_type": "code",
   "execution_count": 108,
   "metadata": {
    "collapsed": false
   },
   "outputs": [],
   "source": [
    "# Code for generating the plot\n",
    "# DON'T RUN ME WITHOUT CREDENTIALS\n",
    "import plotly.plotly as py\n",
    "import plotly.graph_objs as go\n",
    "py.sign_in('aimeeb', '***')\n",
    "data = [\n",
    "    go.Heatmap(\n",
    "        z=cosine_matrix\n",
    "    )\n",
    "]\n",
    "plot_url = py.plot(data, filename='basic-sou-heatmap')"
   ]
  },
  {
   "cell_type": "markdown",
   "metadata": {},
   "source": [
    "#### We note in the plot below, the low similarity levels in the default matrix, but some block demarcations do suggest the groupings by political party."
   ]
  },
  {
   "cell_type": "code",
   "execution_count": 118,
   "metadata": {
    "collapsed": false
   },
   "outputs": [
    {
     "data": {
      "text/html": [
       "<div><a href=\"https://plot.ly/~aimeeb/4/\" target=\"_blank\" title=\"\" style=\"display: block; text-align: center;\"><img src=\"https://plot.ly/~aimeeb/4.png\" alt=\"\" style=\"max-width: 100%;width: 600px;\"  width=\"600\" onerror=\"this.onerror=null;this.src='https://plot.ly/404.png';\" /></a><script data-plotly=\"aimeeb:4\"  src=\"https://plot.ly/embed.js\" async></script></div>"
      ],
      "text/plain": [
       "<IPython.core.display.HTML object>"
      ]
     },
     "metadata": {},
     "output_type": "display_data"
    }
   ],
   "source": [
    "from IPython.core.display import display, HTML\n",
    "display(HTML('<div><a href=\"https://plot.ly/~aimeeb/4/\" target=\"_blank\" title=\"\" style=\"display: block; text-align: center;\"><img src=\"https://plot.ly/~aimeeb/4.png\" alt=\"\" style=\"max-width: 100%;width: 600px;\"  width=\"600\" onerror=\"this.onerror=null;this.src=\\'https://plot.ly/404.png\\';\" /></a><script data-plotly=\"aimeeb:4\"  src=\"https://plot.ly/embed.js\" async></script></div>'))"
   ]
  },
  {
   "cell_type": "markdown",
   "metadata": {},
   "source": [
    "#### Generate the Singular Value Decomposition of the tf_idf matrix\n",
    "\n",
    "> Perform a singular value decomposition on it using numpy, and retain a “reasonable” number of singular values (no more than a few hundred) to form the approximate matrix Xˆ:"
   ]
  },
  {
   "cell_type": "code",
   "execution_count": 30,
   "metadata": {
    "collapsed": false
   },
   "outputs": [
    {
     "name": "stdout",
     "output_type": "stream",
     "text": [
      "(236, 236)\n",
      "(236, 236)\n",
      "(13588, 13588)\n"
     ]
    }
   ],
   "source": [
    "svd_sou = np.linalg.svd(corpus.tf_idf)\n",
    "a = svd_sou[0]\n",
    "s = svd_sou[1]\n",
    "b = svd_sou[2]\n",
    "\n",
    "print a.shape\n",
    "print np.diag(s).shape\n",
    "print b.T.shape"
   ]
  },
  {
   "cell_type": "markdown",
   "metadata": {},
   "source": [
    "#### We use the formula given in class slides to determine the number of sinular values required to account for 70% of variability in the data.\n",
    "\n",
    "We find 129 values are required."
   ]
  },
  {
   "cell_type": "code",
   "execution_count": 31,
   "metadata": {
    "collapsed": false
   },
   "outputs": [
    {
     "name": "stdout",
     "output_type": "stream",
     "text": [
      "least eigens required: 129\n",
      "(236, 13588)\n"
     ]
    }
   ],
   "source": [
    "# Use svd\n",
    "p = 0.7\n",
    "sum_of_all_eigens = np.sum(s)\n",
    "k = 0\n",
    "for i in range(len(s)):\n",
    "    res = np.sum(s[0:i])/sum_of_all_eigens\n",
    "    if res > p:\n",
    "        k = i\n",
    "        break\n",
    "        \n",
    "print 'least eigens required: ' + str(k)\n",
    "tf_idf_pca = np.dot(np.dot(a[:,0:k], np.diag(s[0:k])), b.T[0:k,:])\n",
    "\n",
    "print tf_idf_pca.shape"
   ]
  },
  {
   "cell_type": "code",
   "execution_count": 33,
   "metadata": {
    "collapsed": true
   },
   "outputs": [],
   "source": [
    "#### Generate the cosine similarity matrix for the 129 principal components"
   ]
  },
  {
   "cell_type": "code",
   "execution_count": 34,
   "metadata": {
    "collapsed": false
   },
   "outputs": [
    {
     "data": {
      "text/plain": [
       "array([ 1.        ,  0.79340641,  0.80664352,  0.79139459,  0.82479415,\n",
       "        0.73520092,  0.84537699,  0.79806626,  0.74929426,  0.73928675])"
      ]
     },
     "execution_count": 34,
     "metadata": {},
     "output_type": "execute_result"
    }
   ],
   "source": [
    "cosine_similarity_pca = gen_cosine_matrix(corpus, tf_idf_pca)\n",
    "cosine_similarity_pca[0,:,][0:10]"
   ]
  },
  {
   "cell_type": "markdown",
   "metadata": {},
   "source": [
    "#### Visualize the results using a heatmap"
   ]
  },
  {
   "cell_type": "code",
   "execution_count": 107,
   "metadata": {
    "collapsed": false
   },
   "outputs": [],
   "source": [
    "import plotly.plotly as py\n",
    "import plotly.graph_objs as go\n",
    "\n",
    "py.sign_in('aimeeb', '***')\n",
    "data = [\n",
    "    go.Heatmap(\n",
    "        z=cosine_similarity_pca\n",
    "    )\n",
    "]\n",
    "plot_url = py.plot(data, filename='pca-heatmap')"
   ]
  },
  {
   "cell_type": "markdown",
   "metadata": {},
   "source": [
    "Plots urls:\n",
    "* [basic cosine](https://plot.ly/~aimeeb/4)\n",
    "* [pca cosine](https://plot.ly/~aimeeb/2)"
   ]
  },
  {
   "cell_type": "code",
   "execution_count": 113,
   "metadata": {
    "collapsed": false
   },
   "outputs": [
    {
     "data": {
      "text/html": [
       "<div><a href=\"https://plot.ly/~aimeeb/2/\" target=\"_blank\" title=\"\" style=\"display: block; text-align: center;\"><img src=\"https://plot.ly/~aimeeb/2.png\" alt=\"\" style=\"max-width: 100%;width: 600px;\"  width=\"600\" onerror=\"this.onerror=null;this.src='https://plot.ly/404.png';\" /></a><script data-plotly=\"aimeeb:2\"  src=\"https://plot.ly/embed.js\" async></script></div>"
      ],
      "text/plain": [
       "<IPython.core.display.HTML object>"
      ]
     },
     "metadata": {},
     "output_type": "display_data"
    }
   ],
   "source": [
    "from IPython.core.display import display, HTML\n",
    "display(HTML('<div><a href=\"https://plot.ly/~aimeeb/2/\" target=\"_blank\" title=\"\" style=\"display: block; text-align: center;\"><img src=\"https://plot.ly/~aimeeb/2.png\" alt=\"\" style=\"max-width: 100%;width: 600px;\"  width=\"600\" onerror=\"this.onerror=null;this.src=\\'https://plot.ly/404.png\\';\" /></a><script data-plotly=\"aimeeb:2\"  src=\"https://plot.ly/embed.js\" async></script></div>'))"
   ]
  },
  {
   "cell_type": "markdown",
   "metadata": {
    "collapsed": true
   },
   "source": [
    "## Comments\n",
    "\n",
    "**Does latent semantic analysis appear to outperform the standard analysis?**\n",
    "\n",
    "The LSA gives much greater variance in correlations across speeches and much stronger correlations in some speech groupings. This correlation is weakly suggestive of political party and more suggesting of era.\n",
    "\n",
    "We draw the following 2 conclusions based on review of this heatmap:\n",
    "\n",
    "1. **The first five presidents talked about very similar things, irregardless of party affiliation.** There is strong and obvious clustering in speeches 0-40. These are the speeches of the first 5 presidents: Washington, Adams, Jefferson, Monroe and Madison. They are from 3 different political parties but demonstrated very similar state of the union speeches. The 41st speech is from Johnson, who was the 17th president, so a different era and political party. In general, the groupings by political party are not as strong as the grouping of these first 5 presidents and correlation within a single president's state of the union speeches.\n",
    "\n",
    "2. **The 2 contemporary parties (Democrats and Republicans) show weak intra-group clustering and stronger time-period clustering.** Speeches 58 - 159 were made by Republicans and 164 - 235 were made by Democrats. You can clearly see the seperation of these groups and note a clustering of Repupblicans' speeches ~120 - ~150, suggesting again dependence on era. In fact, you see this cluster is also highly correlated with a cluster of Democrats, suggesting this dependence on era drives similarity more than party affiliation.\n"
   ]
  }
 ],
 "metadata": {
  "kernelspec": {
   "display_name": "Python 2",
   "language": "python",
   "name": "python2"
  },
  "language_info": {
   "codemirror_mode": {
    "name": "ipython",
    "version": 2
   },
   "file_extension": ".py",
   "mimetype": "text/x-python",
   "name": "python",
   "nbconvert_exporter": "python",
   "pygments_lexer": "ipython2",
   "version": "2.7.10"
  }
 },
 "nbformat": 4,
 "nbformat_minor": 0
}
