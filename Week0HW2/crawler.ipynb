{
 "cells": [
  {
   "cell_type": "markdown",
   "metadata": {},
   "source": [
    "# Web Crawler: www.poemhunter.com\n",
    "\n",
    "## Usage Instructions\n",
    "\n",
    "Download the `crawler.py` file from this directory. Use a python console and execute the following code in the same directory where `crawler.py` is stored. Be sure to modify the line `os.chdir(\"...\")`."
   ]
  },
  {
   "cell_type": "code",
   "execution_count": 3,
   "metadata": {
    "collapsed": false,
    "scrolled": true
   },
   "outputs": [
    {
     "name": "stdout",
     "output_type": "stream",
     "text": [
      "Iteration: 1 of 5\n",
      "/poem/with-the-paying-of-my-respect/\n",
      "/poem/substitute-teacher-2/\n",
      "/poem/himalaya-8/\n",
      "/poem/daily-reminder-3/\n",
      "/poem/dog-s-tale/\n",
      "/poem/the-leaders-before-me/\n",
      "/poem/when-your-time-comes/\n",
      "/poem/how-it-was-1975/\n",
      "/poem/way-to-eleusis/\n",
      "/poem/what-is-beyond-me/\n",
      "/poem/salvation-god-can-save-you/\n",
      "/poem/just-one-more-day-11/\n",
      "/poem/riding-a-rainbow/\n",
      "/poem/zaxby-s-arby-s-dominoes/\n",
      "/poem/dat-boi/\n",
      "/poem/finishing/\n",
      "/poem/you-can-t-hide-5/\n",
      "/poem/dull-pickle/\n",
      "/poem/brilliance-of-the-sun/\n",
      "/poem/habitat-for-humanity/\n",
      "/poem/from-my-heart-16/\n",
      "/poem/rebuild/\n",
      "/poem/some-sufferings/\n",
      "/poem/the-donald-and-delilah/\n",
      "/poem/such-a-best-friend-is-he/\n",
      "Iteration: 2 of 5\n",
      "/poem/the-donald-and-delilah/\n",
      "/poem/such-a-best-friend-is-he/\n",
      "/poem/i-want-to-know-the-reality/\n",
      "/poem/sad-and-bleak-final/\n",
      "/poem/a-lincolnshire-lad-boys/\n",
      "/poem/seize-the-call/\n",
      "/poem/choices-converge/\n",
      "/poem/humility-next-to-divinity/\n",
      "/poem/an-english-idyll/\n"
     ]
    },
    {
     "ename": "KeyboardInterrupt",
     "evalue": "",
     "output_type": "error",
     "traceback": [
      "\u001b[0;31m---------------------------------------------------------------------------\u001b[0m",
      "\u001b[0;31mKeyboardInterrupt\u001b[0m                         Traceback (most recent call last)",
      "\u001b[0;32m<ipython-input-3-1f322fb164e9>\u001b[0m in \u001b[0;36m<module>\u001b[0;34m()\u001b[0m\n\u001b[1;32m      9\u001b[0m \u001b[0;34m\u001b[0m\u001b[0m\n\u001b[1;32m     10\u001b[0m \u001b[0;31m# Get poems\u001b[0m\u001b[0;34m\u001b[0m\u001b[0;34m\u001b[0m\u001b[0m\n\u001b[0;32m---> 11\u001b[0;31m \u001b[0mcrawl_poems\u001b[0m\u001b[0;34m(\u001b[0m\u001b[0murl\u001b[0m \u001b[0;34m=\u001b[0m \u001b[0mstart_url\u001b[0m \u001b[0;34m,\u001b[0m \u001b[0mstart\u001b[0m \u001b[0;34m=\u001b[0m \u001b[0;36m1\u001b[0m \u001b[0;34m,\u001b[0m \u001b[0mend\u001b[0m \u001b[0;34m=\u001b[0m \u001b[0;36m5\u001b[0m\u001b[0;34m,\u001b[0m \u001b[0msleep\u001b[0m \u001b[0;34m=\u001b[0m \u001b[0;36m1\u001b[0m\u001b[0;34m,\u001b[0m \u001b[0mlog\u001b[0m \u001b[0;34m=\u001b[0m \u001b[0;36m2\u001b[0m \u001b[0;34m)\u001b[0m\u001b[0;34m\u001b[0m\u001b[0m\n\u001b[0m",
      "\u001b[0;32mcrawler.py\u001b[0m in \u001b[0;36mcrawl_poems\u001b[0;34m(url, file_name, start, end, sleep, log)\u001b[0m\n",
      "\u001b[0;32mcrawler.py\u001b[0m in \u001b[0;36mget_poems\u001b[0;34m(url_list, max_delay)\u001b[0m\n",
      "\u001b[0;31mKeyboardInterrupt\u001b[0m: "
     ]
    }
   ],
   "source": [
    "# DEMO\n",
    "execfile('crawler.py')\n",
    "\n",
    "# Plug in your working directory\n",
    "os.chdir(\"/Users/aimeebarciauskas/Desktop/\")\n",
    "\n",
    "# Choose starting web adress\n",
    "start_url = 'http://www.poemhunter.com/poems/new-poems/?a=0&l=new&order=submitted&p='\n",
    "\n",
    "# Get poems\n",
    "crawl_poems(url = start_url, start = 1, end = 5, sleep = 1, log = 2)"
   ]
  },
  {
   "cell_type": "code",
   "execution_count": null,
   "metadata": {
    "collapsed": true
   },
   "outputs": [],
   "source": []
  }
 ],
 "metadata": {
  "kernelspec": {
   "display_name": "Python 2",
   "language": "python",
   "name": "python2"
  },
  "language_info": {
   "codemirror_mode": {
    "name": "ipython",
    "version": 2
   },
   "file_extension": ".py",
   "mimetype": "text/x-python",
   "name": "python",
   "nbconvert_exporter": "python",
   "pygments_lexer": "ipython2",
   "version": "2.7.10"
  }
 },
 "nbformat": 4,
 "nbformat_minor": 0
}
